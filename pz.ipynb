{
 "cells": [
  {
   "cell_type": "code",
   "execution_count": 5,
   "metadata": {},
   "outputs": [
    {
     "name": "stdout",
     "output_type": "stream",
     "text": [
      "PhoneAlice: 123-456-7890\n",
      "FFF not founded in phone book\n",
      "List of contacts dict_keys(['Alice', 'Bob', 'SFH'])\n"
     ]
    }
   ],
   "source": [
    "class PhoneBook:\n",
    "    def __init__(self) -> None:\n",
    "        self.contacts = {}\n",
    "    def add_contact(self, name, phone_number):\n",
    "        self.contacts[name] = phone_number\n",
    "    def find_contact(self, name):\n",
    "        if name in self.contacts:\n",
    "            return f\"Phone{name}: {self.contacts[name]}\"\n",
    "        else:\n",
    "            return f\"{name} not founded in phone book\"\n",
    "        \n",
    "    def list_all_contacts(self):\n",
    "        return self.contacts.keys()\n",
    "    \n",
    "phone_book = PhoneBook()\n",
    "phone_book.add_contact(\"Alice\", \"123-456-7890\")\n",
    "phone_book.add_contact(\"Bob\", \"987-654-4321\")\n",
    "phone_book.add_contact(\"SFH\", \"555-123-4567\")\n",
    "\n",
    "print(phone_book.find_contact(\"Alice\"))\n",
    "print(phone_book.find_contact(\"FFF\"))\n",
    "\n",
    "print(\"List of contacts\", phone_book.list_all_contacts())\n",
    "    "
   ]
  },
  {
   "cell_type": "code",
   "execution_count": 5,
   "metadata": {},
   "outputs": [],
   "source": [
    "import tkinter\n",
    "\n",
    "from tkinter import *\n",
    "window = Tk()\n",
    "window.title(\"App\")\n",
    "window.geometry('230x130')\n",
    "icon  = PhotoImage(file = 'icon.png')\n",
    "window.iconphoto(False, icon)\n",
    "\n",
    "lbl = Label(window, text=\"hi\", bg=\"blue\")\n",
    "lbl1 = Label(window, text=\"hdfi\", bg=\"yellow\")\n",
    "lbl2 = Label(window, text=\"cchi\", bg=\"red\")\n",
    "lbl3 = Label(window, text=\"hvdfi\", bg=\"green\")\n",
    "lbl.grid(column=0, row=0)\n",
    "lbl1.grid(column=1, row=1)\n",
    "lbl2.grid(column=2, row=2)\n",
    "lbl3.grid(column=3, row=3)\n",
    "\n",
    "btn = Button(window, text=\"Push me\")\n",
    "btn.grid(column=4, row=4)\n",
    "window.mainloop()"
   ]
  }
 ],
 "metadata": {
  "kernelspec": {
   "display_name": "Python 3",
   "language": "python",
   "name": "python3"
  },
  "language_info": {
   "codemirror_mode": {
    "name": "ipython",
    "version": 3
   },
   "file_extension": ".py",
   "mimetype": "text/x-python",
   "name": "python",
   "nbconvert_exporter": "python",
   "pygments_lexer": "ipython3",
   "version": "3.11.5"
  },
  "orig_nbformat": 4
 },
 "nbformat": 4,
 "nbformat_minor": 2
}
