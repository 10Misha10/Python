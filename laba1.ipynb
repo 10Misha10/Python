{
 "cells": [
  {
   "cell_type": "code",
   "execution_count": 31,
   "metadata": {},
   "outputs": [
    {
     "name": "stdout",
     "output_type": "stream",
     "text": [
      "йцуу2е3е44\n",
      "йцууее\n"
     ]
    }
   ],
   "source": [
    "str = input(\"Введите строку: \")\n",
    "print(str)\n",
    "\n",
    "new_str = \"\"\n",
    "for char in str:\n",
    "    if not char.isdigit():\n",
    "        new_str += char\n",
    "\n",
    "print(new_str)\n"
   ]
  },
  {
   "cell_type": "code",
   "execution_count": 1,
   "metadata": {},
   "outputs": [
    {
     "name": "stdout",
     "output_type": "stream",
     "text": [
      "55.6 45.4 3.3\n"
     ]
    }
   ],
   "source": [
    "def sort(x: float, y: float, z: float):\n",
    "    if x < y:\n",
    "        x, y = y, x\n",
    "    if x < z:\n",
    "        x, z = z, x\n",
    "    if y < z:\n",
    "        y, z = z, y\n",
    "    return x, y, z\n",
    "x = 3.3\n",
    "y = 45.4\n",
    "z = 55.6\n",
    "x, y, z = sort(x, y, z)\n",
    "\n",
    "print(x, y, z)"
   ]
  },
  {
   "cell_type": "code",
   "execution_count": 7,
   "metadata": {},
   "outputs": [
    {
     "name": "stdout",
     "output_type": "stream",
     "text": [
      "85 - нечетное\n",
      "65 - нечетное\n",
      "33 - нечетное\n",
      "60 - четное\n",
      "74 - четное\n"
     ]
    }
   ],
   "source": [
    "import random\n",
    "\n",
    "def IsOddNumber(N):\n",
    "    return N % 2 != 0\n",
    "\n",
    "for i in range(5):\n",
    "    random_number = random.randint(1, 100)\n",
    "    is_odd = IsOddNumber(random_number)\n",
    "    \n",
    "    if is_odd:\n",
    "        print(f\"{random_number} - нечетное\")\n",
    "    else:\n",
    "        print(f\"{random_number} - четное\")\n"
   ]
  },
  {
   "cell_type": "code",
   "execution_count": 2,
   "metadata": {},
   "outputs": [
    {
     "name": "stdout",
     "output_type": "stream",
     "text": [
      "200 71 Apple\n",
      "300 21 Oak\n",
      "\n",
      "400 40 Apple\n",
      "350 29 Pear\n",
      "Specific for Apple Garden!\n",
      "Specific for Pear Garden!\n",
      "400 41 Apple\n",
      "350 30 Pear\n",
      "400 40 Apple\n",
      "350 29 Pear\n"
     ]
    }
   ],
   "source": [
    "class FruitGarden:\n",
    "    def __init__(self, square, amount, type) -> None:\n",
    "        self.square = square\n",
    "        self.amount = amount\n",
    "        self.type = type\n",
    "        \n",
    "    def add_tree(self):\n",
    "        return self.amount + 1\n",
    "    \n",
    "    def remove_tree(self):\n",
    "        if self.amount > 0:\n",
    "            return self.amount - 1\n",
    "        \n",
    "    def view_info(self):\n",
    "        print(self.square, self.amount, self.type)\n",
    "    \n",
    "garden1 = FruitGarden(200, 70, \"Apple\")\n",
    "garden2 = FruitGarden(300, 20, \"Oak\")\n",
    "garden1.amount = garden1.add_tree()\n",
    "garden2.amount = garden2.add_tree()\n",
    "garden1.view_info()\n",
    "garden2.view_info()\n",
    "print()\n",
    "\n",
    "class AppleGarden(FruitGarden):\n",
    "    def __init__(self, square, amount) -> None:\n",
    "        super().__init__(square, amount, \"Apple\")\n",
    "        \n",
    "    def init_view(self):\n",
    "        print(\"Specific for Apple Garden!\")\n",
    "        \n",
    "class PearGarden(FruitGarden):\n",
    "    def __init__(self, square, amount) -> None:\n",
    "        super().__init__(square, amount, \"Pear\")\n",
    "        \n",
    "    def init_view(self):\n",
    "        print(\"Specific for Pear Garden!\")\n",
    "        \n",
    "appleGarden = AppleGarden(400, 40)\n",
    "pearGarden = PearGarden(350, 29)\n",
    "appleGarden.view_info()\n",
    "pearGarden.view_info()\n",
    "appleGarden.init_view()\n",
    "pearGarden.init_view()\n",
    "\n",
    "appleGarden.amount = appleGarden.add_tree()\n",
    "pearGarden.amount = pearGarden.add_tree()\n",
    "\n",
    "appleGarden.view_info()\n",
    "pearGarden.view_info()\n",
    "\n",
    "appleGarden.amount = appleGarden.remove_tree()\n",
    "pearGarden.amount = pearGarden.remove_tree()\n",
    "\n",
    "appleGarden.view_info()\n",
    "pearGarden.view_info()"
   ]
  },
  {
   "cell_type": "code",
   "execution_count": null,
   "metadata": {},
   "outputs": [],
   "source": []
  }
 ],
 "metadata": {
  "kernelspec": {
   "display_name": "Python 3",
   "language": "python",
   "name": "python3"
  },
  "language_info": {
   "codemirror_mode": {
    "name": "ipython",
    "version": 3
   },
   "file_extension": ".py",
   "mimetype": "text/x-python",
   "name": "python",
   "nbconvert_exporter": "python",
   "pygments_lexer": "ipython3",
   "version": "3.11.5"
  },
  "orig_nbformat": 4
 },
 "nbformat": 4,
 "nbformat_minor": 2
}
